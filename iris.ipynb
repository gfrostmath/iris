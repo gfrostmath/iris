{
 "cells": [
  {
   "cell_type": "markdown",
   "id": "87e9257b-0604-4775-8406-af18d27e87df",
   "metadata": {},
   "source": [
    "# Abstract"
   ]
  },
  {
   "cell_type": "markdown",
   "id": "1b01ce0e-901f-4747-b3c9-8af7b4cbfcdc",
   "metadata": {},
   "source": [
    " + 3 Classes of 50 Instances each, where each class refers to a type of iris plant.\n",
    " + One class is linearly separable from the other 2.  The other 2 are not linearly separable from each other.\n",
    " + Predicted attribute: class of iris plant.\n",
    "  + Attribute Information:\n",
    "\n",
    "1. sepal length in cm\n",
    "2. sepal width in cm\n",
    "3. petal length in cm\n",
    "4. petal width in cm\n",
    "5. class:\n",
    " + Iris Setosa\n",
    " + Iris Versicolour\n",
    " + Iris Virginica"
   ]
  },
  {
   "cell_type": "markdown",
   "id": "a49fed69-9aa3-4634-9bb0-74ea0fd873e6",
   "metadata": {
    "tags": []
   },
   "source": [
    "# Load Libraries"
   ]
  },
  {
   "cell_type": "code",
   "execution_count": 1,
   "id": "77f8a74e-67d4-4347-bf99-ced04acd6aa6",
   "metadata": {
    "tags": []
   },
   "outputs": [],
   "source": [
    "import numpy as np\n",
    "import pandas as pd\n",
    "import matplotlib\n",
    "import matplotlib.pyplot as plt\n",
    "import seaborn as sns"
   ]
  },
  {
   "cell_type": "code",
   "execution_count": 2,
   "id": "05c2e10f-baf7-421c-b83d-3137415e052e",
   "metadata": {},
   "outputs": [],
   "source": [
    "from sklearn.preprocessing import OneHotEncoder\n",
    "#decision tree\n",
    "from sklearn.tree import DecisionTreeClassifier\n",
    "from sklearn.tree import export_text\n",
    "#manifold learning\n",
    "from sklearn.manifold import TSNE\n",
    "from sklearn.manifold import MDS\n",
    "########\n",
    "########\n",
    "from sklearn.model_selection import cross_val_score\n",
    "from sklearn.model_selection import train_test_split\n",
    "########\n",
    "import xgboost as xgb"
   ]
  },
  {
   "cell_type": "markdown",
   "id": "90c205fb-be45-4a66-8d37-71178d43e9e0",
   "metadata": {
    "tags": []
   },
   "source": [
    "# Acquire Data"
   ]
  },
  {
   "cell_type": "code",
   "execution_count": 3,
   "id": "3496a280-d413-479b-8300-1d549d8f2447",
   "metadata": {},
   "outputs": [],
   "source": [
    "iris = pd.read_csv('./data/IRIS.csv')"
   ]
  },
  {
   "cell_type": "markdown",
   "id": "27afa568-7b36-4df6-80b7-de7c6150222f",
   "metadata": {
    "tags": []
   },
   "source": [
    "# Inspect Data"
   ]
  },
  {
   "cell_type": "code",
   "execution_count": 4,
   "id": "29dacd74-4918-4504-947a-63620062f197",
   "metadata": {},
   "outputs": [
    {
     "data": {
      "text/html": [
       "<div>\n",
       "<style scoped>\n",
       "    .dataframe tbody tr th:only-of-type {\n",
       "        vertical-align: middle;\n",
       "    }\n",
       "\n",
       "    .dataframe tbody tr th {\n",
       "        vertical-align: top;\n",
       "    }\n",
       "\n",
       "    .dataframe thead th {\n",
       "        text-align: right;\n",
       "    }\n",
       "</style>\n",
       "<table border=\"1\" class=\"dataframe\">\n",
       "  <thead>\n",
       "    <tr style=\"text-align: right;\">\n",
       "      <th></th>\n",
       "      <th>Id</th>\n",
       "      <th>SepalLengthCm</th>\n",
       "      <th>SepalWidthCm</th>\n",
       "      <th>PetalLengthCm</th>\n",
       "      <th>PetalWidthCm</th>\n",
       "      <th>Species</th>\n",
       "    </tr>\n",
       "  </thead>\n",
       "  <tbody>\n",
       "    <tr>\n",
       "      <th>0</th>\n",
       "      <td>1</td>\n",
       "      <td>5.1</td>\n",
       "      <td>3.5</td>\n",
       "      <td>1.4</td>\n",
       "      <td>0.2</td>\n",
       "      <td>Iris-setosa</td>\n",
       "    </tr>\n",
       "    <tr>\n",
       "      <th>1</th>\n",
       "      <td>2</td>\n",
       "      <td>4.9</td>\n",
       "      <td>3.0</td>\n",
       "      <td>1.4</td>\n",
       "      <td>0.2</td>\n",
       "      <td>Iris-setosa</td>\n",
       "    </tr>\n",
       "    <tr>\n",
       "      <th>2</th>\n",
       "      <td>3</td>\n",
       "      <td>4.7</td>\n",
       "      <td>3.2</td>\n",
       "      <td>1.3</td>\n",
       "      <td>0.2</td>\n",
       "      <td>Iris-setosa</td>\n",
       "    </tr>\n",
       "    <tr>\n",
       "      <th>3</th>\n",
       "      <td>4</td>\n",
       "      <td>4.6</td>\n",
       "      <td>3.1</td>\n",
       "      <td>1.5</td>\n",
       "      <td>0.2</td>\n",
       "      <td>Iris-setosa</td>\n",
       "    </tr>\n",
       "    <tr>\n",
       "      <th>4</th>\n",
       "      <td>5</td>\n",
       "      <td>5.0</td>\n",
       "      <td>3.6</td>\n",
       "      <td>1.4</td>\n",
       "      <td>0.2</td>\n",
       "      <td>Iris-setosa</td>\n",
       "    </tr>\n",
       "    <tr>\n",
       "      <th>5</th>\n",
       "      <td>6</td>\n",
       "      <td>5.4</td>\n",
       "      <td>3.9</td>\n",
       "      <td>1.7</td>\n",
       "      <td>0.4</td>\n",
       "      <td>Iris-setosa</td>\n",
       "    </tr>\n",
       "    <tr>\n",
       "      <th>6</th>\n",
       "      <td>7</td>\n",
       "      <td>4.6</td>\n",
       "      <td>3.4</td>\n",
       "      <td>1.4</td>\n",
       "      <td>0.3</td>\n",
       "      <td>Iris-setosa</td>\n",
       "    </tr>\n",
       "    <tr>\n",
       "      <th>7</th>\n",
       "      <td>8</td>\n",
       "      <td>5.0</td>\n",
       "      <td>3.4</td>\n",
       "      <td>1.5</td>\n",
       "      <td>0.2</td>\n",
       "      <td>Iris-setosa</td>\n",
       "    </tr>\n",
       "    <tr>\n",
       "      <th>8</th>\n",
       "      <td>9</td>\n",
       "      <td>4.4</td>\n",
       "      <td>2.9</td>\n",
       "      <td>1.4</td>\n",
       "      <td>0.2</td>\n",
       "      <td>Iris-setosa</td>\n",
       "    </tr>\n",
       "    <tr>\n",
       "      <th>9</th>\n",
       "      <td>10</td>\n",
       "      <td>4.9</td>\n",
       "      <td>3.1</td>\n",
       "      <td>1.5</td>\n",
       "      <td>0.1</td>\n",
       "      <td>Iris-setosa</td>\n",
       "    </tr>\n",
       "  </tbody>\n",
       "</table>\n",
       "</div>"
      ],
      "text/plain": [
       "   Id  SepalLengthCm  SepalWidthCm  PetalLengthCm  PetalWidthCm      Species\n",
       "0   1            5.1           3.5            1.4           0.2  Iris-setosa\n",
       "1   2            4.9           3.0            1.4           0.2  Iris-setosa\n",
       "2   3            4.7           3.2            1.3           0.2  Iris-setosa\n",
       "3   4            4.6           3.1            1.5           0.2  Iris-setosa\n",
       "4   5            5.0           3.6            1.4           0.2  Iris-setosa\n",
       "5   6            5.4           3.9            1.7           0.4  Iris-setosa\n",
       "6   7            4.6           3.4            1.4           0.3  Iris-setosa\n",
       "7   8            5.0           3.4            1.5           0.2  Iris-setosa\n",
       "8   9            4.4           2.9            1.4           0.2  Iris-setosa\n",
       "9  10            4.9           3.1            1.5           0.1  Iris-setosa"
      ]
     },
     "execution_count": 4,
     "metadata": {},
     "output_type": "execute_result"
    }
   ],
   "source": [
    "iris.head(10)"
   ]
  },
  {
   "cell_type": "code",
   "execution_count": 5,
   "id": "d0213b9e-576c-4110-b57c-d61c312e556c",
   "metadata": {},
   "outputs": [
    {
     "data": {
      "text/plain": [
       "(150, 6)"
      ]
     },
     "execution_count": 5,
     "metadata": {},
     "output_type": "execute_result"
    }
   ],
   "source": [
    "iris.shape"
   ]
  },
  {
   "cell_type": "code",
   "execution_count": 6,
   "id": "ffd0ce78-e0d7-49c4-8e39-d49e249ff035",
   "metadata": {},
   "outputs": [
    {
     "data": {
      "text/plain": [
       "Iris-setosa        50\n",
       "Iris-versicolor    50\n",
       "Iris-virginica     50\n",
       "Name: Species, dtype: int64"
      ]
     },
     "execution_count": 6,
     "metadata": {},
     "output_type": "execute_result"
    }
   ],
   "source": [
    "iris[\"Species\"].value_counts()"
   ]
  },
  {
   "cell_type": "markdown",
   "id": "ab493ca3-8ad8-4b7f-bcc3-df3bfc9cf3d2",
   "metadata": {
    "tags": []
   },
   "source": [
    "# Visualize Data"
   ]
  },
  {
   "cell_type": "code",
   "execution_count": 7,
   "id": "decb416e-8aac-44e6-af87-38ecbc50d17e",
   "metadata": {},
   "outputs": [
    {
     "data": {
      "text/plain": [
       "<AxesSubplot:xlabel='SepalLengthCm', ylabel='SepalWidthCm'>"
      ]
     },
     "execution_count": 7,
     "metadata": {},
     "output_type": "execute_result"
    },
    {
     "data": {
      "image/png": "[encoded data removed]",
      "text/plain": [
       "<Figure size 432x288 with 1 Axes>"
      ]
     },
     "metadata": {
      "needs_background": "light"
     },
     "output_type": "display_data"
    }
   ],
   "source": [
    "sns.scatterplot(data=iris,\n",
    "                x='SepalLengthCm',\n",
    "                y='SepalWidthCm',\n",
    "                hue='Species')"
   ]
  },
  {
   "cell_type": "code",
   "execution_count": 8,
   "id": "091b9dea-3631-4184-8921-bfcaf96e8a9c",
   "metadata": {},
   "outputs": [
    {
     "name": "stdout",
     "output_type": "stream",
     "text": [
      "Id\n",
      "SepalLengthCm\n",
      "SepalWidthCm\n",
      "PetalLengthCm\n",
      "PetalWidthCm\n"
     ]
    }
   ],
   "source": [
    "for col in iris.columns[0:-1]:\n",
    "    print(col)"
   ]
  },
  {
   "cell_type": "code",
   "execution_count": 9,
   "id": "dadc489a-fd15-48d2-86e6-612689e5a723",
   "metadata": {},
   "outputs": [
    {
     "data": {
      "text/plain": [
       "<AxesSubplot:xlabel='Species', ylabel='SepalLengthCm'>"
      ]
     },
     "execution_count": 9,
     "metadata": {},
     "output_type": "execute_result"
    },
    {
     "data": {
      "image/png": "[encoded data removed]",
      "text/plain": [
       "<Figure size 432x288 with 1 Axes>"
      ]
     },
     "metadata": {
      "needs_background": "light"
     },
     "output_type": "display_data"
    }
   ],
   "source": [
    "#We want to arrange these 4 plots side by side.\n",
    "#And then do it with a loop over columns.\n",
    "\n",
    "sns.boxplot(x='Species', y='SepalLengthCm', data=iris)\n",
    "#sns.boxplot(x='Species', y='SepalWidthCm', data=iris)\n",
    "#sns.boxplot(x='Species', y='PetalLengthCm', data=iris)\n",
    "#sns.boxplot(x='Species', y='PetalWidthCm', data=iris)\n"
   ]
  },
  {
   "cell_type": "markdown",
   "id": "903a3af0-c70a-4d4d-9910-6430cc6b74e9",
   "metadata": {},
   "source": [
    "---\n",
    "---\n",
    "---"
   ]
  },
  {
   "cell_type": "markdown",
   "id": "12e484fd-3a30-40a4-b3b3-c9a21aca0158",
   "metadata": {
    "tags": []
   },
   "source": [
    "# Split Data"
   ]
  },
  {
   "cell_type": "markdown",
   "id": "d0d4f08a-aae4-44c6-bf79-bafed5e4c72e",
   "metadata": {},
   "source": [
    "We want to do train-test-split in order to validate and test our models."
   ]
  },
  {
   "cell_type": "code",
   "execution_count": 40,
   "id": "1357e086-0778-4f96-861d-4a5c28d801d5",
   "metadata": {},
   "outputs": [],
   "source": [
    "#Note: Ignore 'id' feature\n",
    "iris_X = iris.iloc[:,1:-1]\n",
    "iris_y = iris.iloc[:,-1:]"
   ]
  },
  {
   "cell_type": "code",
   "execution_count": 12,
   "id": "58793218-5a5a-41c4-a251-08b79b5c8c7a",
   "metadata": {},
   "outputs": [],
   "source": [
    "X_train, X_test, y_train, y_test = train_test_split(iris_X, iris_y, test_size=0.2, random_state=0)"
   ]
  },
  {
   "cell_type": "markdown",
   "id": "65043764-6742-4547-9190-826376b1bbdb",
   "metadata": {},
   "source": [
    "---\n",
    "---\n",
    "---"
   ]
  },
  {
   "cell_type": "markdown",
   "id": "e3372b23-2a48-4fa2-8bc4-a1526f60d386",
   "metadata": {},
   "source": [
    "# Preprocessing / Encoding"
   ]
  },
  {
   "cell_type": "markdown",
   "id": "72c71f96-863e-4164-bfe5-46bf3fd92fc4",
   "metadata": {},
   "source": [
    " + We want to do encoding on the feature 'Species' in order to apply XGBoost.\n",
    " + Note: we were able to apply DecisionTreeClassifier anyway."
   ]
  },
  {
   "cell_type": "code",
   "execution_count": 13,
   "id": "b6befda4-29ef-405e-9228-480c2822a904",
   "metadata": {},
   "outputs": [],
   "source": [
    "enc = OneHotEncoder(sparse=False)"
   ]
  },
  {
   "cell_type": "code",
   "execution_count": 14,
   "id": "567c94c7-dc04-42f2-b626-00d18a5e20c9",
   "metadata": {},
   "outputs": [],
   "source": [
    "y_train_enc = enc.fit_transform(y_train)"
   ]
  },
  {
   "cell_type": "code",
   "execution_count": 15,
   "id": "58c6dc6a-ebe3-4547-b34b-dc952a274159",
   "metadata": {},
   "outputs": [],
   "source": [
    "y_test_enc = enc.fit_transform(y_test)"
   ]
  },
  {
   "cell_type": "markdown",
   "id": "1d341dad-1b00-40e7-a40c-12f96f9c7e2a",
   "metadata": {},
   "source": [
    "# XGBoost"
   ]
  },
  {
   "cell_type": "code",
   "execution_count": 16,
   "id": "91dea21c-3457-42d7-bc9f-1d7220ee82de",
   "metadata": {},
   "outputs": [],
   "source": [
    "xgb_model = xgb.XGBRegressor(objective='reg:squarederror', random_state=0)"
   ]
  },
  {
   "cell_type": "code",
   "execution_count": 17,
   "id": "96805868-544f-4d32-9b48-9f76a6116cd5",
   "metadata": {},
   "outputs": [],
   "source": [
    "fitted_xgb = xgb_model.fit(X_train, y_train_enc)"
   ]
  },
  {
   "cell_type": "code",
   "execution_count": 18,
   "id": "624bf00c-eaa3-46bd-a044-e801fcf3e579",
   "metadata": {},
   "outputs": [],
   "source": [
    "y_test_pred_xgb = fitted_xgb.predict(X_test)"
   ]
  },
  {
   "cell_type": "code",
   "execution_count": 19,
   "id": "bcdba778-73d5-4a35-8e27-43c0785258eb",
   "metadata": {},
   "outputs": [
    {
     "data": {
      "text/plain": [
       "array([[ 5.3235784e-05,  5.0370469e-05,  1.0001496e+00],\n",
       "       [ 5.3235784e-05,  1.0033116e+00, -9.0255875e-05],\n",
       "       [ 9.9988943e-01, -1.0000552e-04,  2.1994172e-05],\n",
       "       [ 5.3235784e-05, -2.3610681e-05,  1.0000235e+00],\n",
       "       [ 9.9988943e-01,  8.1306491e-05,  2.1994172e-05],\n",
       "       [ 5.3235784e-05, -3.3992715e-04,  9.9996722e-01],\n",
       "       [ 9.9988943e-01,  8.1306491e-05,  2.1994172e-05],\n",
       "       [ 5.3235784e-05,  9.9508429e-01, -8.5622544e-04],\n",
       "       [ 5.3235784e-05,  1.0065403e+00,  2.6308792e-03],\n",
       "       [ 5.3235784e-05,  9.9949908e-01,  4.1472358e-06]], dtype=float32)"
      ]
     },
     "execution_count": 19,
     "metadata": {},
     "output_type": "execute_result"
    }
   ],
   "source": [
    "y_test_pred_xgb[:10]"
   ]
  },
  {
   "cell_type": "markdown",
   "id": "24995001-9ee8-4e69-9156-0ffb977c0ad8",
   "metadata": {},
   "source": [
    "Round to nearest integer?"
   ]
  },
  {
   "cell_type": "code",
   "execution_count": 20,
   "id": "9b3037db-f8e4-4f29-ab76-5080102e9c15",
   "metadata": {},
   "outputs": [
    {
     "data": {
      "text/plain": [
       "0.9777880915960866"
      ]
     },
     "execution_count": 20,
     "metadata": {},
     "output_type": "execute_result"
    }
   ],
   "source": [
    "fitted_xgb.score(X_test, y_test_enc)\n",
    "# 99.99% !!!"
   ]
  },
  {
   "cell_type": "markdown",
   "id": "6c77a844-f800-4c57-8e0b-1604a3d52c72",
   "metadata": {},
   "source": [
    "# Decision Tree"
   ]
  },
  {
   "cell_type": "code",
   "execution_count": 43,
   "id": "4aa7d1fb-3150-48fd-adda-5f2a814959c8",
   "metadata": {},
   "outputs": [],
   "source": [
    "decision_tree = DecisionTreeClassifier(random_state=1, max_depth=3)\n",
    "fitted_tree = decision_tree.fit(X_train, y_train_enc)"
   ]
  },
  {
   "cell_type": "code",
   "execution_count": 44,
   "id": "586502d6-57df-44c7-b4c2-fd9f0d797016",
   "metadata": {},
   "outputs": [
    {
     "name": "stdout",
     "output_type": "stream",
     "text": [
      "|--- feature_3 <= 0.80\n",
      "|   |--- class: 1\n",
      "|--- feature_3 >  0.80\n",
      "|   |--- feature_3 <= 1.75\n",
      "|   |   |--- feature_2 <= 4.95\n",
      "|   |   |   |--- class: 0\n",
      "|   |   |--- feature_2 >  4.95\n",
      "|   |   |   |--- class: 0\n",
      "|   |--- feature_3 >  1.75\n",
      "|   |   |--- feature_2 <= 4.85\n",
      "|   |   |   |--- class: 0\n",
      "|   |   |--- feature_2 >  4.85\n",
      "|   |   |   |--- class: 0\n",
      "\n"
     ]
    }
   ],
   "source": [
    "r = export_text(fitted_tree)\n",
    "print(r)"
   ]
  },
  {
   "cell_type": "code",
   "execution_count": 45,
   "id": "adbd7cf5-14ba-489d-86a3-66b4d11dc83c",
   "metadata": {},
   "outputs": [
    {
     "data": {
      "text/plain": [
       "Text(0.5, 1.0, 'Decision tree trained on all iris features')"
      ]
     },
     "execution_count": 45,
     "metadata": {},
     "output_type": "execute_result"
    },
    {
     "data": {
      "image/png": "[encoded data removed]",
      "text/plain": [
       "<Figure size 504x504 with 1 Axes>"
      ]
     },
     "metadata": {
      "needs_background": "light"
     },
     "output_type": "display_data"
    }
   ],
   "source": [
    "# Tree Visualization\n",
    "from sklearn.tree import plot_tree\n",
    "plt.figure()\n",
    "plot_tree(fitted_tree, filled=True)\n",
    "plt.title(\"Decision tree trained on all iris features\")"
   ]
  },
  {
   "cell_type": "code",
   "execution_count": 46,
   "id": "0fbdac2b-8629-4f05-b3fb-e163eaed8f23",
   "metadata": {},
   "outputs": [],
   "source": [
    "# We can ask: what is the percentage of correct predictions this model makes?\n",
    "# Then we should really do train-test-split in order to have a test dataset.\n",
    "# use fitted_tree.predict(   )\n",
    "y_test_pred_tree = fitted_tree.predict( X_test )"
   ]
  },
  {
   "cell_type": "code",
   "execution_count": 47,
   "id": "90d36867-ac93-4614-9448-ef3fc64b14c9",
   "metadata": {},
   "outputs": [
    {
     "data": {
      "text/plain": [
       "array([0.6       , 1.        , 1.        , 1.        , 1.        ,\n",
       "       1.        , 1.        , 1.        , 1.        , 0.73333333])"
      ]
     },
     "execution_count": 47,
     "metadata": {},
     "output_type": "execute_result"
    }
   ],
   "source": [
    "cross_val_score(fitted_tree, iris.iloc[:,0:-1], iris.iloc[:,-1], cv=10)\n",
    "# How to interpret this?"
   ]
  },
  {
   "cell_type": "code",
   "execution_count": 48,
   "id": "44602691-468a-4923-9def-4730ec8aaeda",
   "metadata": {},
   "outputs": [
    {
     "data": {
      "text/plain": [
       "0.9666666666666667"
      ]
     },
     "execution_count": 48,
     "metadata": {},
     "output_type": "execute_result"
    }
   ],
   "source": [
    "fitted_tree.score( X_test, y_test_enc)"
   ]
  },
  {
   "cell_type": "markdown",
   "id": "82f996d4-81a8-4cfd-a1df-0e300edd4fc2",
   "metadata": {},
   "source": [
    "---\n",
    "---\n",
    "---"
   ]
  },
  {
   "cell_type": "markdown",
   "id": "2e8a78fd-fb34-4155-8bb7-6d164a20ab48",
   "metadata": {
    "tags": []
   },
   "source": [
    "# t-SNE"
   ]
  },
  {
   "cell_type": "code",
   "execution_count": 33,
   "id": "10941c35-4e10-42a6-b25d-52daf76494ee",
   "metadata": {},
   "outputs": [],
   "source": [
    "tsne = TSNE(random_state=0,\n",
    "            n_components=2)"
   ]
  },
  {
   "cell_type": "code",
   "execution_count": 34,
   "id": "c537ddd7-3640-4832-8b27-ca10ffa73a2b",
   "metadata": {},
   "outputs": [
    {
     "name": "stderr",
     "output_type": "stream",
     "text": [
      "/home/g/anaconda3/lib/python3.9/site-packages/sklearn/manifold/_t_sne.py:780: FutureWarning: The default initialization in TSNE will change from 'random' to 'pca' in 1.2.\n",
      "  warnings.warn(\n",
      "/home/g/anaconda3/lib/python3.9/site-packages/sklearn/manifold/_t_sne.py:790: FutureWarning: The default learning rate in TSNE will change from 200.0 to 'auto' in 1.2.\n",
      "  warnings.warn(\n"
     ]
    }
   ],
   "source": [
    "iris_tsne = tsne.fit_transform(iris_X)"
   ]
  },
  {
   "cell_type": "code",
   "execution_count": 35,
   "id": "5b895c0f-caeb-407d-b421-610f7ab50288",
   "metadata": {},
   "outputs": [
    {
     "data": {
      "text/plain": [
       "<AxesSubplot:>"
      ]
     },
     "execution_count": 35,
     "metadata": {},
     "output_type": "execute_result"
    },
    {
     "data": {
      "image/png": "[encoded data removed]",
      "text/plain": [
       "<Figure size 432x288 with 1 Axes>"
      ]
     },
     "metadata": {
      "needs_background": "light"
     },
     "output_type": "display_data"
    }
   ],
   "source": [
    "sns.scatterplot(data=iris_tsne,x=iris_tsne[:,0],y=iris_tsne[:,1])"
   ]
  },
  {
   "cell_type": "markdown",
   "id": "664a8968-a4e0-4da1-ab1f-1606c94420bc",
   "metadata": {},
   "source": [
    "---\n",
    "---\n",
    "---"
   ]
  },
  {
   "cell_type": "markdown",
   "id": "9e3f91e1-eef6-40c4-96d7-d376c4437ed3",
   "metadata": {
    "tags": []
   },
   "source": [
    "# MDS"
   ]
  },
  {
   "cell_type": "code",
   "execution_count": 36,
   "id": "3deca53b-d08b-4f55-a428-6cbbcd35caeb",
   "metadata": {},
   "outputs": [],
   "source": [
    "mds = MDS(2,random_state=0)"
   ]
  },
  {
   "cell_type": "code",
   "execution_count": 37,
   "id": "055ee546-608d-4035-9c74-d01e70f04aab",
   "metadata": {},
   "outputs": [],
   "source": [
    "iris_mds = mds.fit_transform(iris_X)"
   ]
  },
  {
   "cell_type": "code",
   "execution_count": 38,
   "id": "47a178d8-8ecc-4fcf-ba43-d39c4e651091",
   "metadata": {},
   "outputs": [
    {
     "data": {
      "text/plain": [
       "<AxesSubplot:>"
      ]
     },
     "execution_count": 38,
     "metadata": {},
     "output_type": "execute_result"
    },
    {
     "data": {
      "image/png": "[encoded data removed]",
      "text/plain": [
       "<Figure size 432x288 with 1 Axes>"
      ]
     },
     "metadata": {
      "needs_background": "light"
     },
     "output_type": "display_data"
    }
   ],
   "source": [
    "sns.scatterplot(data=iris_mds,x=iris_mds[:,0],y=iris_mds[:,1])"
   ]
  },
  {
   "cell_type": "code",
   "execution_count": 39,
   "id": "e93cf3d5-8678-4a6c-b4ef-29e21820663d",
   "metadata": {},
   "outputs": [
    {
     "data": {
      "text/plain": [
       "<matplotlib.collections.PathCollection at 0x7f14301cd220>"
      ]
     },
     "execution_count": 39,
     "metadata": {},
     "output_type": "execute_result"
    },
    {
     "data": {
      "image/png": "[encoded data removed]",
      "text/plain": [
       "<Figure size 504x504 with 1 Axes>"
      ]
     },
     "metadata": {
      "needs_background": "light"
     },
     "output_type": "display_data"
    }
   ],
   "source": [
    "plt.rcParams['figure.figsize']=[7,7]\n",
    "\n",
    "plt.scatter(x=iris_mds[:,0],y=iris_mds[:,1])"
   ]
  },
  {
   "cell_type": "markdown",
   "id": "5890ffdb-48b5-4fbc-8b94-ecc9d3a20e83",
   "metadata": {},
   "source": [
    "---\n",
    "---\n",
    "---"
   ]
  },
  {
   "cell_type": "markdown",
   "id": "45c9ae4c-d2dc-4b7d-aadb-83cd50a333b6",
   "metadata": {},
   "source": [
    "# PCA"
   ]
  },
  {
   "cell_type": "code",
   "execution_count": 49,
   "id": "fdaf8e79-2584-4d72-8142-6c8a9b697c5f",
   "metadata": {},
   "outputs": [],
   "source": [
    "from sklearn.decomposition import PCA"
   ]
  },
  {
   "cell_type": "code",
   "execution_count": 50,
   "id": "aaaef603-4ae6-4b2d-896b-66b48a9a3b1b",
   "metadata": {},
   "outputs": [],
   "source": [
    "pca = PCA(n_components=2)"
   ]
  },
  {
   "cell_type": "code",
   "execution_count": 51,
   "id": "762e482f-b6fb-4bfb-8004-c8fc6fd18ec3",
   "metadata": {},
   "outputs": [],
   "source": [
    "X_pca = pca.fit(iris_X).transform(iris_X)"
   ]
  },
  {
   "cell_type": "code",
   "execution_count": 52,
   "id": "f4f633d3-6cf4-4ec0-b612-55db1ff91256",
   "metadata": {},
   "outputs": [
    {
     "data": {
      "text/plain": [
       "array([0.92461621, 0.05301557])"
      ]
     },
     "execution_count": 52,
     "metadata": {},
     "output_type": "execute_result"
    }
   ],
   "source": [
    "pca.explained_variance_ratio_"
   ]
  }
 ],
 "metadata": {
  "kernelspec": {
   "display_name": "Python 3 (ipykernel)",
   "language": "python",
   "name": "python3"
  },
  "language_info": {
   "codemirror_mode": {
    "name": "ipython",
    "version": 3
   },
   "file_extension": ".py",
   "mimetype": "text/x-python",
   "name": "python",
   "nbconvert_exporter": "python",
   "pygments_lexer": "ipython3",
   "version": "3.9.12"
  }
 },
 "nbformat": 4,
 "nbformat_minor": 5
}
